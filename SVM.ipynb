{
 "cells": [
  {
   "cell_type": "code",
   "execution_count": 1,
   "metadata": {
    "collapsed": false
   },
   "outputs": [
    {
     "data": {
      "text/plain": [
       "Plots.PyPlotBackend()"
      ]
     },
     "execution_count": 1,
     "metadata": {},
     "output_type": "execute_result"
    }
   ],
   "source": [
    "using Distributions\n",
    "using Plots\n",
    "pyplot()"
   ]
  },
  {
   "cell_type": "code",
   "execution_count": 3,
   "metadata": {
    "collapsed": false
   },
   "outputs": [
    {
     "data": {
      "text/plain": [
       "SVM_dual (generic function with 2 methods)"
      ]
     },
     "execution_count": 3,
     "metadata": {},
     "output_type": "execute_result"
    }
   ],
   "source": [
    "function transform_svm_primal(X, y, C = .5)\n",
    "    #The variable becomes the concatenation of w and z here. \n",
    "    d = size(X,2)\n",
    "    n = size(X,1)\n",
    "    Q = zeros(d+n, d+n)\n",
    "    Q[1:d, 1:d] = eye(d)\n",
    "    p = zeros(d+n)\n",
    "    p[d+1:d+n] = C * ones(n)\n",
    "    Y = diagm(y)\n",
    "    A = [- Y * X -eye(n); zeros(n,d) -eye(n)]\n",
    "    b = [ones(n) ; zeros(n)]\n",
    "    return Q, p, A, b\n",
    "end\n",
    "\n",
    "\n",
    "function transform_svm_dual(X, y, C = .5)\n",
    "    #Here, we keep lambda as the variable. We need to make A bigger to account for the 2 inequalities on lambda\n",
    "    d = size(X,2)\n",
    "    n = size(X,1)\n",
    "    Q = diagm(y) * X * transpose(X) * diagm(y)\n",
    "    p = ones(n)\n",
    "    A = zeros(2*n, n)\n",
    "    b = zeros(2*n)\n",
    "    A[1:n, 1:n] = eye(n)\n",
    "    A[n+1:2n, 1:n] = -eye(n)\n",
    "    b[1:n] = C*ones(n)\n",
    "    return Q, p, A, b\n",
    "end\n",
    "\n",
    "\n",
    "function generate_data(n1, n2, mean1 = -3*ones(2), mean2=3*ones(2), var1=ones(2), var2=ones(2))\n",
    "    # Returns 2 clouds of labelled Gaussian data of dim 2 with different moments\n",
    "    model1 = MvNormal(mean1, var1)\n",
    "    model2 = MvNormal(mean2, var2)\n",
    "    samples1 = rand(model1, n1)\n",
    "    samples2 = rand(model2, n2)\n",
    "    X = [transpose(samples1); transpose(samples2)]\n",
    "    X = hcat(X, ones(n1+n2))\n",
    "    y = ones(size(X,1))\n",
    "    y[n1+1:n1+n2]= -1*ones(n2)\n",
    "    return X, y\n",
    "end\n",
    "\n",
    "\n",
    "function backtracking(x, t, dx, f, nabla)\n",
    "    alpha = .45 \n",
    "    beta = .9\n",
    "    res = 1\n",
    "    max_iterations = 10\n",
    "    while minimum(x + res*dx) < 10^(-3.)\n",
    "        res *= beta\n",
    "    end\n",
    "    k= 0\n",
    "    val = f(x,t)\n",
    "    next_val = f(x+res*dx, t)\n",
    "    while  next_val > (val + alpha * (res*transpose(nabla)*dx)[1])\n",
    "        if k > max_iterations\n",
    "            break\n",
    "        end\n",
    "        k+=1\n",
    "        res *= beta\n",
    "        next_val = f(x+res*dx,t)\n",
    "    end\n",
    "    return res\n",
    "end\n",
    "\n",
    "function Newton(t, x, f, grad, hess)\n",
    "    nabla = grad(x, t)\n",
    "    invHess = inv(hess(x,t))\n",
    "    dx = - invHess * nabla\n",
    "    lam2 = - (transpose(dx) * nabla)[1]\n",
    "    backtrack_t = backtracking(x, t, dx, f, nabla)\n",
    "    x_nt = x + backtrack_t * dx\n",
    "    return x_nt, lam2/2\n",
    "end\n",
    "\n",
    "function centering_step(Q, p, A, b, x, t=1, tol=10^(-3.))\n",
    "    function phi(u)\n",
    "        return 1/2 * (transpose(u) * Q * u + transpose(p)*u)[1]\n",
    "    end\n",
    "    function f(u,v)\n",
    "        return (v*phi(u) - sum([log(b[i] - A[i,:]* u) for i in size(A, 1)]))[1]\n",
    "    end\n",
    "    function grad(u,v)\n",
    "        return v * (Q * u + p) + sum([transpose(A[i,:])/(b[i] - A[i,:] * u)[1] for i in 1:size(A,1)])\n",
    "    end\n",
    "    function hess(u,v)\n",
    "        return v * Q - sum([transpose(A[i,:])*A[i,:]/(b[i] - A[i,:] * u)[1]^2. for i in size(A,1)])\n",
    "    end\n",
    "    gaps=[]\n",
    "    x_sequence = []\n",
    "    obj_vals = []\n",
    "    gap = Inf\n",
    "    j = 0\n",
    "    max_iterations = 100\n",
    "    while (gap > tol)  \n",
    "        j += 1\n",
    "        if (j > max_iterations)\n",
    "            break\n",
    "        end\n",
    "        x_new, gap = Newton(t, x, f, grad, hess)\n",
    "        x = copy(x_new)\n",
    "        push!(gaps,gap)\n",
    "        push!(x_sequence, x)\n",
    "        push!(obj_vals, f(x,t))\n",
    "    end\n",
    "    return x_sequence\n",
    "end\n",
    "\n",
    "function barr_method(Q, p, A, b, x_0, mu, tol=10^(-3.))\n",
    "    function phi(u)\n",
    "        return 1/2 * (transpose(u) * Q * u + transpose(p)*u)[1]\n",
    "    end\n",
    "    x_sol = copy(x_0)\n",
    "    m = size(x_0, 1)\n",
    "    t = .5\n",
    "    global phis\n",
    "    phis = []\n",
    "    while m/t > tol   \n",
    "        global x_seq\n",
    "        x_seq = centering_step(Q, p, A, b, x_sol, t, tol)\n",
    "        x_sol = x_seq[end]\n",
    "        t = mu * t\n",
    "        push!(phis,phi(x_sol))\n",
    "    end\n",
    "    return x_sol, x_seq\n",
    "end\n",
    "\n",
    "\n",
    "function SVM_primal(X, y, C = .5)\n",
    "    Q, p, A, b = transform_svm_primal(X, y, C)\n",
    "    function phi(u)\n",
    "        return 1/2 * (transpose(u) * Q * u + transpose(p)*u)[1]\n",
    "    end\n",
    "    mu = 15\n",
    "    w_0 = diagm(y)*X\\ones(size(y,1))\n",
    "    z_0 = C/2 * ones(size(y,1))\n",
    "    x_0 = [w_0 ; z_0]\n",
    "    x_star, xseq= barr_method(Q, p, A, b, x_0, mu)\n",
    "    obj = phi(x_star)\n",
    "    return x_star[1:d]\n",
    "end\n",
    "\n",
    "\n",
    "function SVM_dual(X, y, C=.5)\n",
    "    Q, p, A, b = transform_svm_dual(X, y, C)\n",
    "    function phi(u)\n",
    "        return 1/2 * (transpose(u) * Q * u + transpose(p)*u)[1]\n",
    "    end\n",
    "    mu = 50\n",
    "    x_0 = C/2 * ones(size(A,2))\n",
    "    x_star, xseq= barr_method(Q, p, A, b, x_0, mu)\n",
    "    obj = phi(x_star)\n",
    "    w = sum([x_star[i]*y[i]*transpose(X[i,:]) for i in size(X,1)])\n",
    "    return w\n",
    "end"
   ]
  },
  {
   "cell_type": "markdown",
   "metadata": {},
   "source": [
    "# Linear separator"
   ]
  },
  {
   "cell_type": "code",
   "execution_count": 4,
   "metadata": {
    "collapsed": false
   },
   "outputs": [
    {
     "data": {
      "text/plain": [
       "line_separator (generic function with 1 method)"
      ]
     },
     "execution_count": 4,
     "metadata": {},
     "output_type": "execute_result"
    }
   ],
   "source": [
    "function orth(vec)\n",
    "    #Easy for dim 3\n",
    "    [-vec[2] ; vec[1] ; 0]\n",
    "end\n",
    "\n",
    "\n",
    "function line_separator(vec)\n",
    "    return t ->t*orth(vec)\n",
    "end"
   ]
  },
  {
   "cell_type": "markdown",
   "metadata": {},
   "source": [
    "# Using the Primal "
   ]
  },
  {
   "cell_type": "markdown",
   "metadata": {},
   "source": [
    "## Easy case: Classes well separated"
   ]
  },
  {
   "cell_type": "code",
   "execution_count": 5,
   "metadata": {
    "collapsed": false
   },
   "outputs": [
    {
     "ename": "LoadError",
     "evalue": "LoadError: Base.LinAlg.LAPACKException(4)\nwhile loading In[5], in expression starting on line 4",
     "output_type": "error",
     "traceback": [
      "LoadError: Base.LinAlg.LAPACKException(4)\nwhile loading In[5], in expression starting on line 4",
      "",
      " in trtrs! at ./linalg/lapack.jl:2804",
      " in inv at ./linalg/triangular.jl:429",
      " in Newton at ./In[3]:69"
     ]
    }
   ],
   "source": [
    "# srand(1234)\n",
    "X,y = generate_data(300,300)\n",
    "C = .5\n",
    "w = SVM_primal(X,y,C);\n",
    "y_pred = sign(X*w);"
   ]
  },
  {
   "cell_type": "code",
   "execution_count": null,
   "metadata": {
    "collapsed": false
   },
   "outputs": [],
   "source": [
    "l = @layout([a b])\n",
    "x1 = [line_separator(w)(t)[1] for t in -10:10]\n",
    "x2 = [line_separator(w)(t)[2] for t in -10:10]\n",
    "scatter([X[:,1] X[:,1]], [X[:,2] X[:,2]], layout=l, c=[y_pred y],title=[\"Predicted classes\" \"Ground truth\"])\n",
    "plot!([x1 x1],[x2 x2])"
   ]
  },
  {
   "cell_type": "markdown",
   "metadata": {},
   "source": [
    "# Using the Dual"
   ]
  },
  {
   "cell_type": "markdown",
   "metadata": {},
   "source": [
    "## Easy case: Classes well separated "
   ]
  },
  {
   "cell_type": "code",
   "execution_count": null,
   "metadata": {
    "collapsed": false
   },
   "outputs": [],
   "source": [
    "# srand(1234)\n",
    "X,y = generate_data(300,300)\n",
    "C = .5\n",
    "w = SVM_dual(X,y,C);\n",
    "y_pred = sign(X*w);"
   ]
  },
  {
   "cell_type": "code",
   "execution_count": null,
   "metadata": {
    "collapsed": false
   },
   "outputs": [],
   "source": [
    "l = @layout([a b])\n",
    "x1 = [line_separator(w)(t)[1] for t in -10:10]\n",
    "x2 = [line_separator(w)(t)[2] for t in -10:10]\n",
    "scatter([X[:,1] X[:,1]], [X[:,2] X[:,2]], layout=l, c=[y_pred y],title=[\"Predicted classes\" \"Ground truth\"])\n",
    "plot!([x1 x1],[x2 x2])"
   ]
  },
  {
   "cell_type": "code",
   "execution_count": null,
   "metadata": {
    "collapsed": false
   },
   "outputs": [],
   "source": [
    "plot(collect(1:size(phis,1)), log(Array{Float64}(phis)), xaxis=\"Iterations\", yaxis=\"Log objective function\", title=\"Dual objective values\")"
   ]
  },
  {
   "cell_type": "markdown",
   "metadata": {},
   "source": [
    "## Harder case: Overlapping classes "
   ]
  },
  {
   "cell_type": "code",
   "execution_count": null,
   "metadata": {
    "collapsed": false
   },
   "outputs": [],
   "source": [
    "srand(1234)\n",
    "X,y = generate_data(300,300, -3*ones(2), 3*ones(2), 6*eye(2), 6*eye(2))\n",
    "C = .5\n",
    "w = SVM_dual(X,y,C);\n",
    "y_pred = sign(X*w);"
   ]
  },
  {
   "cell_type": "code",
   "execution_count": null,
   "metadata": {
    "collapsed": false
   },
   "outputs": [],
   "source": [
    "l = @layout([a b])\n",
    "x1 = [line_separator(w)(t)[1] for t in -10:10]\n",
    "x2 = [line_separator(w)(t)[2] for t in -10:10]\n",
    "ax = scatter([X[:,1] X[:,1]], [X[:,2] X[:,2]], layout=l, c=[y_pred y],title=[\"Predicted classes\" \"Ground truth\"])\n",
    "plot!([x1 x1],[x2 x2])\n",
    "#plot!(collect(1:size(phis,1)), log(Array{Float64}(phis)) , xaxis=\"Iterations\", yaxis=\"Log objective function\", title=\"Dual objective values\")"
   ]
  },
  {
   "cell_type": "code",
   "execution_count": null,
   "metadata": {
    "collapsed": false
   },
   "outputs": [],
   "source": [
    "plot(collect(1:size(phis,1)), log(Array{Float64}(phis)), xaxis=\"Iterations\", yaxis=\"Log objective function\", title=\"Dual objective values\")"
   ]
  },
  {
   "cell_type": "code",
   "execution_count": null,
   "metadata": {
    "collapsed": true
   },
   "outputs": [],
   "source": []
  }
 ],
 "metadata": {
  "anaconda-cloud": {},
  "kernelspec": {
   "display_name": "Julia 0.4.5",
   "language": "julia",
   "name": "julia-0.4"
  },
  "language_info": {
   "file_extension": ".jl",
   "mimetype": "application/julia",
   "name": "julia",
   "version": "0.4.5"
  }
 },
 "nbformat": 4,
 "nbformat_minor": 1
}
