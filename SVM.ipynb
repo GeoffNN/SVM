{
 "cells": [
  {
   "cell_type": "code",
   "execution_count": 1,
   "metadata": {
    "collapsed": false
   },
   "outputs": [
    {
     "data": {
      "text/plain": [
       "Plots.PyPlotBackend()"
      ]
     },
     "execution_count": 1,
     "metadata": {},
     "output_type": "execute_result"
    }
   ],
   "source": [
    "using DataFrames\n",
    "using Distributions\n",
    "using Plots\n",
    "pyplot()"
   ]
  },
  {
   "cell_type": "code",
   "execution_count": 2,
   "metadata": {
    "collapsed": false
   },
   "outputs": [
    {
     "data": {
      "text/plain": [
       "generate_data (generic function with 2 methods)"
      ]
     },
     "execution_count": 2,
     "metadata": {},
     "output_type": "execute_result"
    }
   ],
   "source": [
    "function generate_data(n1,n2, d=2)\n",
    "    # Returns 2 clouds of labelled Gaussian data of dim 2 with different moments\n",
    "    model1 = MvNormal(-ones(d), .5*eye(d))\n",
    "    model2 = MvNormal(ones(d), .5*eye(d))\n",
    "    samples1 = rand(model1, n1)\n",
    "    samples2 = rand(model2, n2)\n",
    "    X = DataFrame([transpose(samples1); transpose(samples2)])\n",
    "    X = hcat(X, zeros(n1+n2))\n",
    "    y = DataFrame(Label=ones(size(X,1)))\n",
    "    y[n1+1:n1+n2,:Label] = -1*ones(n2)\n",
    "    return X, y\n",
    "end"
   ]
  },
  {
   "cell_type": "code",
   "execution_count": 3,
   "metadata": {
    "collapsed": false
   },
   "outputs": [
    {
     "data": {
      "text/plain": [
       "transform_svm_primal (generic function with 2 methods)"
      ]
     },
     "execution_count": 3,
     "metadata": {},
     "output_type": "execute_result"
    }
   ],
   "source": [
    "function transform_svm_primal(X, y, C = .5)\n",
    "    d = size(X,2)\n",
    "    n = size(X,1)\n",
    "    Q = zeros(d+n, d+n)\n",
    "    Q[1:d, 1:d] = eye(d)\n",
    "    p = zeros(d+n)\n",
    "    p[d+1:d+n] = [C for _ in 1:n]\n",
    "    Y = diagm(y[:Label])\n",
    "    A = zeros(n, d+n)\n",
    "    A[1:n, d+1:d+n] = -eye(n)\n",
    "    A[1:n,1:d] = - Y*Array(X)\n",
    "    b = -ones(n)\n",
    "    return Q, p, A, b\n",
    "end"
   ]
  },
  {
   "cell_type": "code",
   "execution_count": 4,
   "metadata": {
    "collapsed": false
   },
   "outputs": [
    {
     "data": {
      "text/plain": [
       "transform_svm_dual (generic function with 2 methods)"
      ]
     },
     "execution_count": 4,
     "metadata": {},
     "output_type": "execute_result"
    }
   ],
   "source": [
    "function transform_svm_dual( X, y,C = .5)\n",
    "    d = size(X,2)\n",
    "    n = size(X,1)\n",
    "    Q = diagm(y[:Label]) * Array(X) * transpose(Array(X)) * diagm(y[:Label])\n",
    "    p = ones(n)\n",
    "    A = zeros(2*n, n)\n",
    "    b = zeros(2*n)\n",
    "    A[1:n, 1:n] = eye(n)\n",
    "    A[n+1:2n, 1:n] = -eye(n)\n",
    "    b[1:n] = C*ones(n)\n",
    "    return Q, p, A, b\n",
    "end"
   ]
  },
  {
   "cell_type": "code",
   "execution_count": 39,
   "metadata": {
    "collapsed": false
   },
   "outputs": [
    {
     "data": {
      "text/plain": [
       "backtracking (generic function with 1 method)"
      ]
     },
     "execution_count": 39,
     "metadata": {},
     "output_type": "execute_result"
    }
   ],
   "source": [
    "function Newton(t, x, f, grad, hess)\n",
    "    invHess = pinv(hess(x,t)) \n",
    "    nabla = grad(x,t)\n",
    "    dx = - invHess * nabla\n",
    "    lam2 = - transpose(dx) * nabla\n",
    "    backtrack_t = backtracking(x, t, dx, f, nabla)\n",
    "    x_new = x + backtrack_t*dx\n",
    "    gap = lam2/2\n",
    "    return x_new, gap[1]\n",
    "end\n",
    "\n",
    "function backtracking(x, t, dx, f, nabla)\n",
    "    alpha = .25 \n",
    "    beta = .5\n",
    "    res = 1\n",
    "    while minimum(x + res*dx) < 1\n",
    "        res *= beta\n",
    "    end\n",
    "    while  f(x+res*dx, t) - f(x,t) + (alpha * res*transpose(nabla)*dx)[1] > 0.\n",
    "        res *= beta\n",
    "    end\n",
    "    return res\n",
    "end"
   ]
  },
  {
   "cell_type": "code",
   "execution_count": 40,
   "metadata": {
    "collapsed": false,
    "scrolled": false
   },
   "outputs": [
    {
     "data": {
      "text/plain": [
       "centering_step (generic function with 3 methods)"
      ]
     },
     "execution_count": 40,
     "metadata": {},
     "output_type": "execute_result"
    }
   ],
   "source": [
    "function centering_step(Q, p, A, b, x, t=1, tol=10^(-3.))\n",
    "    function f(u,v)\n",
    "        return (v * (transpose(u) * Q * u + transpose(p)*u) - sum(log(b - A * u)))[1]\n",
    "    end\n",
    "    function grad(u,v)\n",
    "        return v * (Q * u + p) + sum([transpose(A[i,:])/(b[i] - A[i,:] * u)[1] for i in 1:size(A,1)])\n",
    "    end\n",
    "    function hess(u,v)\n",
    "        return v * Q - sum([transpose(A[i,:])*A[i,:]/(b[i] - A[i,:] * u)[1]^2. for i in size(A,1)])\n",
    "    end\n",
    "    x_seq = []\n",
    "    gaps = []\n",
    "    gap = Inf\n",
    "    x_new = x\n",
    "    while (gap > tol) \n",
    "        x_new, gap = Newton(t, x_new, f, grad, hess)\n",
    "        push!(x_seq, x_new)\n",
    "        push!(gaps, gap)\n",
    "    end\n",
    "    return x_seq\n",
    "end"
   ]
  },
  {
   "cell_type": "code",
   "execution_count": 41,
   "metadata": {
    "collapsed": false,
    "scrolled": false
   },
   "outputs": [
    {
     "data": {
      "text/plain": [
       "barr_method (generic function with 2 methods)"
      ]
     },
     "execution_count": 41,
     "metadata": {},
     "output_type": "execute_result"
    }
   ],
   "source": [
    "function barr_method(Q, p, A, b, x_0, mu, tol=10^(-3.))\n",
    "    x = x_0\n",
    "    m = size(x_0,1)\n",
    "    t = 1\n",
    "    gaps = []\n",
    "    while true        \n",
    "        push!(gaps, m/t)\n",
    "        x = centering_step(Q, p, A, b, x, t, tol)\n",
    "        t = mu * t\n",
    "        if m/t < tol\n",
    "            x_sol = x\n",
    "            break\n",
    "        end\n",
    "    end\n",
    "    plot(gaps)\n",
    "    return x_sol, x_seq\n",
    "end"
   ]
  },
  {
   "cell_type": "code",
   "execution_count": 42,
   "metadata": {
    "collapsed": false
   },
   "outputs": [
    {
     "data": {
      "text/plain": [
       "SVM_primal (generic function with 2 methods)"
      ]
     },
     "execution_count": 42,
     "metadata": {},
     "output_type": "execute_result"
    }
   ],
   "source": [
    "function SVM_primal(X, y, C = .5)\n",
    "    n, d = size(X)\n",
    "    Q, p, A, b = transform_svm_primal(X,y,C)\n",
    "    mu = 2\n",
    "    x_0 = C/2 * ones(size(A,2))\n",
    "    barr_method(Q,p,A,b, x_0, mu)\n",
    "end"
   ]
  },
  {
   "cell_type": "code",
   "execution_count": 43,
   "metadata": {
    "collapsed": false
   },
   "outputs": [
    {
     "data": {
      "text/plain": [
       "SVM_dual (generic function with 2 methods)"
      ]
     },
     "execution_count": 43,
     "metadata": {},
     "output_type": "execute_result"
    }
   ],
   "source": [
    "function SVM_dual(X, y, C=.5)\n",
    "    Q, p, A, b = transform_svm_dual(X, y,C)\n",
    "    mu = 2\n",
    "    x_0 = C/2 * ones(size(A,2))\n",
    "    barr_method(Q,p,A,b, x_0, mu)\n",
    "end"
   ]
  },
  {
   "cell_type": "code",
   "execution_count": null,
   "metadata": {
    "collapsed": false,
    "scrolled": true
   },
   "outputs": [],
   "source": [
    "X,y = generate_data(20,20)\n",
    "C = .5\n",
    "SVM_primal(X,y,C)"
   ]
  },
  {
   "cell_type": "code",
   "execution_count": null,
   "metadata": {
    "collapsed": false
   },
   "outputs": [],
   "source": []
  },
  {
   "cell_type": "code",
   "execution_count": 24,
   "metadata": {
    "collapsed": false
   },
   "outputs": [
    {
     "data": {
      "text/plain": [
       "197.40575106517804"
      ]
     },
     "execution_count": 24,
     "metadata": {},
     "output_type": "execute_result"
    }
   ],
   "source": [
    "X,y = generate_data(20,20)\n",
    "C = .5\n",
    "Q, p, A, b = transform_svm_dual(X,y,C)\n",
    "x= C/2 * ones(size(A,2))\n",
    "function f(u,v)\n",
    "    return v * (transpose(u) * Q * u + transpose(p)*u)[1]\n",
    "end\n",
    "f(x,1)"
   ]
  },
  {
   "cell_type": "code",
   "execution_count": null,
   "metadata": {
    "collapsed": false
   },
   "outputs": [],
   "source": []
  },
  {
   "cell_type": "code",
   "execution_count": null,
   "metadata": {
    "collapsed": true
   },
   "outputs": [],
   "source": []
  }
 ],
 "metadata": {
  "anaconda-cloud": {},
  "kernelspec": {
   "display_name": "Julia 0.4.5",
   "language": "julia",
   "name": "julia-0.4"
  },
  "language_info": {
   "file_extension": ".jl",
   "mimetype": "application/julia",
   "name": "julia",
   "version": "0.4.5"
  }
 },
 "nbformat": 4,
 "nbformat_minor": 1
}
