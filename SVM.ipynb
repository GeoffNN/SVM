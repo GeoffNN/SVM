{
 "cells": [
  {
   "cell_type": "code",
   "execution_count": 4,
   "metadata": {
    "collapsed": false
   },
   "outputs": [],
   "source": [
    "using DataFrames\n",
    "using Distributions"
   ]
  },
  {
   "cell_type": "code",
   "execution_count": 5,
   "metadata": {
    "collapsed": false
   },
   "outputs": [
    {
     "data": {
      "text/plain": [
       "generate_data (generic function with 1 method)"
      ]
     },
     "execution_count": 5,
     "metadata": {},
     "output_type": "execute_result"
    }
   ],
   "source": [
    "function generate_data(n1,n2, d)\n",
    "    # Returns 2 clouds of labelled Gaussian data with different moments\n",
    "    model1 = MvNormal(-ones(d), .5*eye(d))\n",
    "    model2 = MvNormal(ones(d), .5*eye(d))\n",
    "    samples1 = rand(model1, n1)\n",
    "    samples2 = rand(model2, n2)\n",
    "    X = DataFrame([transpose(samples1); transpose(samples2)])\n",
    "    y=DataFrame(Label=ones(size(X,1)))\n",
    "    y[n1+1:n1+n2,:Label] = -1*ones(n2)\n",
    "    return X, y\n",
    "end"
   ]
  },
  {
   "cell_type": "code",
   "execution_count": 6,
   "metadata": {
    "collapsed": false
   },
   "outputs": [
    {
     "data": {
      "text/plain": [
       "transform_svm_primal (generic function with 1 method)"
      ]
     },
     "execution_count": 6,
     "metadata": {},
     "output_type": "execute_result"
    }
   ],
   "source": [
    "function transform_svm_primal(C, X, y)\n",
    "    d = size(X,2)\n",
    "    n = size(X,1)\n",
    "    Q = zeros(d+n, d+n)\n",
    "    Q[1:d, 1:d] = eye(d)\n",
    "    p = zeros(d+n)\n",
    "    p[d+1:d+n] = [C for i in 1:n]\n",
    "    Y = diagm(y[:Label])\n",
    "    A = zeros(n, d+n)\n",
    "    A[1:n, d+1:d+n] = -eye(n)\n",
    "    A[1:n,1:d] = - Y*Array(X)\n",
    "    b = -ones(d+n)\n",
    "    return Q, p, A, b\n",
    "end"
   ]
  },
  {
   "cell_type": "code",
   "execution_count": 11,
   "metadata": {
    "collapsed": false
   },
   "outputs": [
    {
     "data": {
      "text/plain": [
       "transform_svm_dual (generic function with 1 method)"
      ]
     },
     "execution_count": 11,
     "metadata": {},
     "output_type": "execute_result"
    }
   ],
   "source": [
    "function transform_svm_dual(C, X, y)\n",
    "    d = size(X,2)\n",
    "    n = size(X,1)\n",
    "    Q = diagm(y[:Label]) * Array(X) * transpose(Array(X)) * diagm(y[:Label])\n",
    "    p = ones(n)\n",
    "    A = zeros(2*n, n)\n",
    "    b = zeros(2*n)\n",
    "    A[1:n, 1:n] = eye(n)\n",
    "    A[n+1:2n, 1:n] = -eye(n)\n",
    "    b[1:n] = C*ones(n)\n",
    "    return Q, p, A, b\n",
    "end"
   ]
  },
  {
   "cell_type": "code",
   "execution_count": 12,
   "metadata": {
    "collapsed": true
   },
   "outputs": [
    {
     "data": {
      "text/plain": [
       "(\n",
       "40x40 Array{Float64,2}:\n",
       " 23.19     14.8388    8.18011  12.8384   …  18.0835  13.5727   11.2164 \n",
       " 14.8388   15.9189   12.5596   11.9517      16.0907  15.023    10.1851 \n",
       "  8.18011  12.5596   22.5416    7.03912     19.091    9.62415  14.2965 \n",
       " 12.8384   11.9517    7.03912  11.9292      12.8895  12.059     7.57035\n",
       " 20.8688   12.8501   10.2668   11.3295      19.6342  13.2358   12.5833 \n",
       " 20.5968   19.9305   17.9097   14.2269   …  22.3136  18.0309   15.9675 \n",
       "  9.48007   6.77833   6.82782   8.64451     13.2905   7.35903   8.23562\n",
       " 19.3627   17.0606   21.2497   13.2258      26.3768  16.4159   18.4756 \n",
       " 13.9442   13.5271   15.5553   11.3292      20.2203  11.164    13.4014 \n",
       " 13.7417   11.1465   14.2002    8.52283     17.8654  10.1823   12.6562 \n",
       " 10.3185   10.427    15.2179    9.9588   …  16.5492   7.75357  12.1555 \n",
       "  8.04883   9.97497  12.1103    8.89667     12.0851  10.6541    9.80237\n",
       " 17.2175   16.7428   14.4977   13.1376      21.459   16.7445   13.0845 \n",
       "  ⋮                                      ⋱                             \n",
       "  7.89613  10.0707   10.8715    7.70835     12.1917   8.05555   7.00014\n",
       " 16.1511   15.793    17.5661   12.6062      23.343   16.8303   15.3669 \n",
       " 17.2669   15.4982   16.0762   13.3841   …  23.0407  12.6896   14.0445 \n",
       " 11.1356   14.9712   14.9631   11.2988      15.3976  15.1438   11.3736 \n",
       " 15.4399   16.6254   23.2652   12.8076      27.6209  15.0922   16.8548 \n",
       " 19.5763   20.3031   17.9448   15.0686      24.4124  21.3024   14.5539 \n",
       " 10.4451   11.7953   10.8844    9.75787     14.8203  13.214     9.45787\n",
       " 11.8736   13.8116   17.6289    9.53501  …  20.368   13.9833   12.6186 \n",
       " 14.5694   13.2512   13.0173    9.78003     16.5046   8.54541  11.7433 \n",
       " 18.0835   16.0907   19.091    12.8895      26.3169  16.0597   15.506  \n",
       " 13.5727   15.023     9.62415  12.059       16.0597  20.9714    8.90327\n",
       " 11.2164   10.1851   14.2965    7.57035     15.506    8.90327  13.6431 ,\n",
       "\n",
       "[1.0,1.0,1.0,1.0,1.0,1.0,1.0,1.0,1.0,1.0  …  1.0,1.0,1.0,1.0,1.0,1.0,1.0,1.0,1.0,1.0],\n",
       "80x40 Array{Float64,2}:\n",
       "  1.0   0.0   0.0   0.0   0.0   0.0  …   0.0   0.0   0.0   0.0   0.0   0.0\n",
       "  0.0   1.0   0.0   0.0   0.0   0.0      0.0   0.0   0.0   0.0   0.0   0.0\n",
       "  0.0   0.0   1.0   0.0   0.0   0.0      0.0   0.0   0.0   0.0   0.0   0.0\n",
       "  0.0   0.0   0.0   1.0   0.0   0.0      0.0   0.0   0.0   0.0   0.0   0.0\n",
       "  0.0   0.0   0.0   0.0   1.0   0.0      0.0   0.0   0.0   0.0   0.0   0.0\n",
       "  0.0   0.0   0.0   0.0   0.0   1.0  …   0.0   0.0   0.0   0.0   0.0   0.0\n",
       "  0.0   0.0   0.0   0.0   0.0   0.0      0.0   0.0   0.0   0.0   0.0   0.0\n",
       "  0.0   0.0   0.0   0.0   0.0   0.0      0.0   0.0   0.0   0.0   0.0   0.0\n",
       "  0.0   0.0   0.0   0.0   0.0   0.0      0.0   0.0   0.0   0.0   0.0   0.0\n",
       "  0.0   0.0   0.0   0.0   0.0   0.0      0.0   0.0   0.0   0.0   0.0   0.0\n",
       "  0.0   0.0   0.0   0.0   0.0   0.0  …   0.0   0.0   0.0   0.0   0.0   0.0\n",
       "  0.0   0.0   0.0   0.0   0.0   0.0      0.0   0.0   0.0   0.0   0.0   0.0\n",
       "  0.0   0.0   0.0   0.0   0.0   0.0      0.0   0.0   0.0   0.0   0.0   0.0\n",
       "  ⋮                             ⋮    ⋱         ⋮                          \n",
       " -0.0  -0.0  -0.0  -0.0  -0.0  -0.0     -0.0  -0.0  -0.0  -0.0  -0.0  -0.0\n",
       " -0.0  -0.0  -0.0  -0.0  -0.0  -0.0     -0.0  -0.0  -0.0  -0.0  -0.0  -0.0\n",
       " -0.0  -0.0  -0.0  -0.0  -0.0  -0.0  …  -0.0  -0.0  -0.0  -0.0  -0.0  -0.0\n",
       " -0.0  -0.0  -0.0  -0.0  -0.0  -0.0     -0.0  -0.0  -0.0  -0.0  -0.0  -0.0\n",
       " -0.0  -0.0  -0.0  -0.0  -0.0  -0.0     -0.0  -0.0  -0.0  -0.0  -0.0  -0.0\n",
       " -0.0  -0.0  -0.0  -0.0  -0.0  -0.0     -0.0  -0.0  -0.0  -0.0  -0.0  -0.0\n",
       " -0.0  -0.0  -0.0  -0.0  -0.0  -0.0     -1.0  -0.0  -0.0  -0.0  -0.0  -0.0\n",
       " -0.0  -0.0  -0.0  -0.0  -0.0  -0.0  …  -0.0  -1.0  -0.0  -0.0  -0.0  -0.0\n",
       " -0.0  -0.0  -0.0  -0.0  -0.0  -0.0     -0.0  -0.0  -1.0  -0.0  -0.0  -0.0\n",
       " -0.0  -0.0  -0.0  -0.0  -0.0  -0.0     -0.0  -0.0  -0.0  -1.0  -0.0  -0.0\n",
       " -0.0  -0.0  -0.0  -0.0  -0.0  -0.0     -0.0  -0.0  -0.0  -0.0  -1.0  -0.0\n",
       " -0.0  -0.0  -0.0  -0.0  -0.0  -0.0     -0.0  -0.0  -0.0  -0.0  -0.0  -1.0,\n",
       "\n",
       "[0.5,0.5,0.5,0.5,0.5,0.5,0.5,0.5,0.5,0.5  …  0.0,0.0,0.0,0.0,0.0,0.0,0.0,0.0,0.0,0.0])"
      ]
     },
     "execution_count": 12,
     "metadata": {},
     "output_type": "execute_result"
    }
   ],
   "source": [
    "X, y = generate_data(20,20, 15)\n",
    "transform_svm_dual(.5, X, y)"
   ]
  },
  {
   "cell_type": "code",
   "execution_count": null,
   "metadata": {
    "collapsed": true
   },
   "outputs": [],
   "source": [
    "function Newton(t,x,f,grad,hess)\n",
    "    \n",
    "    return x_new, gap\n",
    "end"
   ]
  },
  {
   "cell_type": "code",
   "execution_count": null,
   "metadata": {
    "collapsed": true
   },
   "outputs": [],
   "source": [
    "function centering_step(Q,p,A,b,x,t,tol)\n",
    "    return x_seq"
   ]
  },
  {
   "cell_type": "code",
   "execution_count": null,
   "metadata": {
    "collapsed": true
   },
   "outputs": [],
   "source": [
    "function barr_method(Q, p, A, b, x_0, mu, tol)\n",
    "    return x_sol, x_seq"
   ]
  }
 ],
 "metadata": {
  "anaconda-cloud": {},
  "kernelspec": {
   "display_name": "Julia 0.4.5",
   "language": "julia",
   "name": "julia-0.4"
  },
  "language_info": {
   "file_extension": ".jl",
   "mimetype": "application/julia",
   "name": "julia",
   "version": "0.4.5"
  }
 },
 "nbformat": 4,
 "nbformat_minor": 1
}
